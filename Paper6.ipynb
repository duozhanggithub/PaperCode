{
 "cells": [
  {
   "cell_type": "code",
   "execution_count": 1,
   "metadata": {
    "collapsed": false
   },
   "outputs": [
    {
     "name": "stderr",
     "output_type": "stream",
     "text": [
      "Using TensorFlow backend.\n"
     ]
    }
   ],
   "source": [
    "import numpy\n",
    "import math\n",
    "import pandas\n",
    "import matplotlib.pyplot as plt\n",
    "\n",
    "from sklearn.preprocessing import MinMaxScaler\n",
    "from sklearn.metrics import mean_squared_error\n",
    "#from sklearn.utils import check_arrays\n",
    "\n",
    "from sklearn.svm import SVR\n",
    "from keras.models import Sequential\n",
    "from keras.layers import Dense, LSTM, GRU, SimpleRNN, Dropout"
   ]
  },
  {
   "cell_type": "code",
   "execution_count": 2,
   "metadata": {
    "collapsed": false
   },
   "outputs": [
    {
     "name": "stdout",
     "output_type": "stream",
     "text": [
      "[[ 1.77149999  0.19888213  0.10472103]\n",
      " [ 1.13699996  0.12350018  0.13087003]\n",
      " [ 1.14999998  0.23069003  0.27148944]\n",
      " [ 0.74599999  0.06392039  0.06839383]\n",
      " [ 1.14300001  0.55704874  0.37750435]\n",
      " [ 3.29500008  1.46453643  1.03900933]\n",
      " [ 0.96950001  0.17980404  0.17077641]\n",
      " [ 1.6595      0.27750552  0.35760996]]\n"
     ]
    }
   ],
   "source": [
    "numpy.random.seed(7)\n",
    "\n",
    "dataframe = pandas.read_csv('Paper66_10min.csv', header=None)\n",
    "dataframe = dataframe.iloc[:, [1,2,4,5,6,7,9,11]]\n",
    "dataset = dataframe.values\n",
    "dataset = dataset.astype('float32')\n",
    "\n",
    "#summary of data\n",
    "Data_Summary = numpy.zeros((8,3))\n",
    "\n",
    "for i in range (len(dataset[0, :])):\n",
    "    Data_Summary[i,0] = numpy.max(dataset[:, i])\n",
    "    Data_Summary[i,1] = numpy.mean(dataset[:, i])\n",
    "    Data_Summary[i,2] = numpy.std(dataset[:, i])\n",
    "\n",
    "print (Data_Summary)\n",
    "\n",
    "scaler = MinMaxScaler(feature_range=(0, 1))\n",
    "dataset = scaler.fit_transform(dataset)"
   ]
  },
  {
   "cell_type": "code",
   "execution_count": 3,
   "metadata": {
    "collapsed": true
   },
   "outputs": [],
   "source": [
    "#train, test split\n",
    "train_size = int(len(dataset) * 0.80)\n",
    "test_size = len(dataset) - train_size\n",
    "train, test = dataset[0:train_size,:], dataset[train_size:len(dataset),:]"
   ]
  },
  {
   "cell_type": "code",
   "execution_count": 4,
   "metadata": {
    "collapsed": true
   },
   "outputs": [],
   "source": [
    "def create_dataset(dataset, look_back, step):\n",
    "    dataX, dataY = [], []\n",
    "    \n",
    "    for i in range(len(dataset)-look_back-step): #i是矩阵的列数\n",
    "        a = numpy.reshape(dataset[i:(i+look_back), :], -1)\n",
    "        dataX.append(a)\n",
    "        b = numpy.reshape(dataset[i+look_back+step-1, :], -1)\n",
    "        dataY.append(b)\n",
    "    \n",
    "    return numpy.array(dataX), numpy.array(dataY)\n",
    "\n",
    "#Nash-Sutcliffe\n",
    "def NSE(observed, simulated):\n",
    "    return 1 - numpy.sum((simulated-observed)**2)/numpy.sum((observed-numpy.mean(observed))**2)\n",
    "\n",
    "def mean_absolute_percentage_error(y_true, y_pred): \n",
    "    return numpy.mean(numpy.abs((y_true - y_pred) / y_true)) * 100"
   ]
  },
  {
   "cell_type": "code",
   "execution_count": null,
   "metadata": {
    "collapsed": false
   },
   "outputs": [],
   "source": [
    "look_back = 48\n",
    "step = 8\n",
    "\n",
    "TrainX, TrainY = create_dataset(train, look_back, step)\n",
    "TestX, TestY = create_dataset(test, look_back, step)"
   ]
  },
  {
   "cell_type": "code",
   "execution_count": null,
   "metadata": {
    "collapsed": false
   },
   "outputs": [
    {
     "name": "stdout",
     "output_type": "stream",
     "text": [
      "Epoch 1/60\n",
      "46s - loss: 0.0225\n",
      "Epoch 2/60\n"
     ]
    }
   ],
   "source": [
    "TrainX = numpy.reshape(TrainX, (TrainX.shape[0], 1, TrainX.shape[1]))\n",
    "TestX = numpy.reshape(TestX, (TestX.shape[0], 1, TestX.shape[1]))\n",
    "\n",
    "LSTMNN = Sequential()\n",
    "LSTMNN.add(LSTM(512, return_sequences=True, input_dim=8*look_back))\n",
    "LSTMNN.add(Dropout(0.2))\n",
    "LSTMNN.add(LSTM(512))\n",
    "LSTMNN.add(Dense(8))\n",
    "LSTMNN.compile(loss='mean_squared_error', optimizer='adam')\n",
    "LSTMNN.fit(TrainX, TrainY, nb_epoch=60, batch_size=1024, verbose=2)\n",
    "\n",
    "LSTMpredict = LSTMNN.predict(TestX)\n",
    "\n",
    "LSTMpredict = scaler.inverse_transform(LSTMpredict)\n",
    "TestY = scaler.inverse_transform(TestY)"
   ]
  },
  {
   "cell_type": "code",
   "execution_count": null,
   "metadata": {
    "collapsed": false
   },
   "outputs": [],
   "source": [
    "plt.plot(LSTMpredict[:,0],'b--')\n",
    "plt.plot(TestY[:,0],'r:',markersize=3)\n",
    "\n",
    "plt.show()"
   ]
  },
  {
   "cell_type": "code",
   "execution_count": null,
   "metadata": {
    "collapsed": false
   },
   "outputs": [],
   "source": [
    "plt.plot(LSTMpredict[:,3],'b--')\n",
    "plt.plot(TestY[:,3],'r:',markersize=3)\n",
    "\n",
    "plt.show()"
   ]
  },
  {
   "cell_type": "code",
   "execution_count": null,
   "metadata": {
    "collapsed": false
   },
   "outputs": [],
   "source": [
    "plt.plot(LSTMpredict[:,7],'b--')\n",
    "plt.plot(TestY[:,7],'r:',markersize=3)\n",
    "\n",
    "plt.show()"
   ]
  },
  {
   "cell_type": "code",
   "execution_count": null,
   "metadata": {
    "collapsed": false
   },
   "outputs": [],
   "source": [
    "Model_Result = numpy.zeros((8,3))\n",
    "\n",
    "for i in range (len(dataset[0, :])):\n",
    "    Model_Result[i,0] = numpy.corrcoef(TestY[:,i], LSTMpredict[:,i])[0, 1]\n",
    "    Model_Result[i,1] = numpy.sqrt(mean_squared_error(TestY[:,i], LSTMpredict[:,i]))\n",
    "    Model_Result[i,2] = NSE(TestY[:,i], LSTMpredict[:,i])\n",
    "    #Model_Result[i,2] = mean_absolute_percentage_error(TestY[:,i], LSTMpredict[:,i])\n",
    "\n",
    "print (Model_Result)"
   ]
  },
  {
   "cell_type": "code",
   "execution_count": null,
   "metadata": {
    "collapsed": true
   },
   "outputs": [],
   "source": []
  }
 ],
 "metadata": {
  "kernelspec": {
   "display_name": "Python 2",
   "language": "python",
   "name": "python2"
  },
  "language_info": {
   "codemirror_mode": {
    "name": "ipython",
    "version": 2
   },
   "file_extension": ".py",
   "mimetype": "text/x-python",
   "name": "python",
   "nbconvert_exporter": "python",
   "pygments_lexer": "ipython2",
   "version": "2.7.6"
  }
 },
 "nbformat": 4,
 "nbformat_minor": 1
}
