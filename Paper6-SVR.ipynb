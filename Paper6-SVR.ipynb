{
 "cells": [
  {
   "cell_type": "code",
   "execution_count": 1,
   "metadata": {
    "collapsed": false
   },
   "outputs": [
    {
     "name": "stderr",
     "output_type": "stream",
     "text": [
      "Using TensorFlow backend.\n"
     ]
    }
   ],
   "source": [
    "import numpy\n",
    "import math\n",
    "import pandas\n",
    "import matplotlib.pyplot as plt\n",
    "\n",
    "from sklearn.preprocessing import MinMaxScaler\n",
    "from sklearn.metrics import mean_squared_error\n",
    "#from sklearn.utils import check_arrays\n",
    "\n",
    "from sklearn.svm import SVR\n",
    "from keras.models import Sequential\n",
    "from keras.layers import Dense, LSTM, GRU, SimpleRNN, Dropout"
   ]
  },
  {
   "cell_type": "code",
   "execution_count": 2,
   "metadata": {
    "collapsed": false
   },
   "outputs": [
    {
     "name": "stdout",
     "output_type": "stream",
     "text": [
      "[[ 1.77149999  0.19888213  0.10472103]\n",
      " [ 1.13699996  0.12350018  0.13087003]\n",
      " [ 1.14999998  0.23069003  0.27148944]\n",
      " [ 0.74599999  0.06392039  0.06839383]\n",
      " [ 1.14300001  0.55704874  0.37750435]\n",
      " [ 3.29500008  1.46453643  1.03900933]\n",
      " [ 0.96950001  0.17980404  0.17077641]\n",
      " [ 1.6595      0.27750552  0.35760996]]\n"
     ]
    }
   ],
   "source": [
    "numpy.random.seed(7)\n",
    "\n",
    "dataframe = pandas.read_csv('Paper66_10min.csv', header=None)\n",
    "dataframe = dataframe.iloc[:, [1,2,4,5,6,7,9,11]]\n",
    "dataset = dataframe.values\n",
    "dataset = dataset.astype('float32')\n",
    "\n",
    "#summary of data\n",
    "Data_Summary = numpy.zeros((8,3))\n",
    "\n",
    "for i in range (len(dataset[0, :])):\n",
    "    Data_Summary[i,0] = numpy.max(dataset[:, i])\n",
    "    Data_Summary[i,1] = numpy.mean(dataset[:, i])\n",
    "    Data_Summary[i,2] = numpy.std(dataset[:, i])\n",
    "\n",
    "print (Data_Summary)\n",
    "\n",
    "#scaler = MinMaxScaler(feature_range=(0, 1))\n",
    "#dataset = scaler.fit_transform(dataset)"
   ]
  },
  {
   "cell_type": "code",
   "execution_count": 3,
   "metadata": {
    "collapsed": true
   },
   "outputs": [],
   "source": [
    "def create_dataset(dataset, look_back, step):\n",
    "    dataX, dataY = [], []\n",
    "    \n",
    "    for i in range(len(dataset)-look_back-step):\n",
    "        a = dataset[i:(i+look_back), 0]\n",
    "        dataX.append(a)\n",
    "        b = dataset[i+look_back+step-1, 0]\n",
    "        dataY.append(b)\n",
    "    \n",
    "    return numpy.array(dataX), numpy.array(dataY)\n",
    "\n",
    "#Nash-Sutcliffe\n",
    "def NSE(observed, simulated):\n",
    "    return 1 - numpy.sum((simulated-observed)**2)/numpy.sum((observed-numpy.mean(observed))**2)\n",
    "\n",
    "def mean_absolute_percentage_error(y_true, y_pred): \n",
    "    return numpy.mean(numpy.abs((y_true - y_pred) / y_true)) * 100"
   ]
  },
  {
   "cell_type": "code",
   "execution_count": 4,
   "metadata": {
    "collapsed": false
   },
   "outputs": [],
   "source": [
    "look_back = 48\n",
    "step = 6\n",
    "\n",
    "#train, test split\n",
    "train_size = int(len(dataset) * 0.80)\n",
    "test_size = len(dataset) - train_size\n",
    "train, test = dataset[0:train_size,:], dataset[train_size:len(dataset),:]"
   ]
  },
  {
   "cell_type": "code",
   "execution_count": 5,
   "metadata": {
    "collapsed": false
   },
   "outputs": [
    {
     "name": "stderr",
     "output_type": "stream",
     "text": [
      "/usr/local/lib/python2.7/dist-packages/sklearn/svm/base.py:220: ConvergenceWarning: Solver terminated early (max_iter=2500).  Consider pre-processing your data with StandardScaler or MinMaxScaler.\n",
      "  % self.max_iter, ConvergenceWarning)\n"
     ]
    }
   ],
   "source": [
    "Model_Result = numpy.zeros((8,3))\n",
    "\n",
    "for i in range (len(dataset[0, :])):\n",
    "    datasvr = dataset[:, i].reshape((27756,1))\n",
    "    \n",
    "    train, test = datasvr[0:train_size,:], datasvr[train_size:len(dataset),:]\n",
    "    \n",
    "    TrainX, TrainY = create_dataset(train, look_back, step)\n",
    "    TestX, TestY = create_dataset(test, look_back, step)\n",
    "    \n",
    "    clf = SVR(kernel='rbf', degree=3, \n",
    "          gamma=3, coef0=0.0, tol=0.001, \n",
    "          C=5, \n",
    "          epsilon=0.01, shrinking=True, cache_size=200, verbose=False, max_iter=2500)\n",
    "    \n",
    "    clf.fit(TrainX, TrainY)\n",
    "    svrpredict=clf.predict(TestX)\n",
    "    \n",
    "    Model_Result[i,0] = numpy.corrcoef(TestY, svrpredict)[0, 1]\n",
    "    Model_Result[i,1] = numpy.sqrt(mean_squared_error(TestY, svrpredict))\n",
    "    Model_Result[i,2] = NSE(TestY, svrpredict)"
   ]
  },
  {
   "cell_type": "code",
   "execution_count": 6,
   "metadata": {
    "collapsed": false
   },
   "outputs": [
    {
     "name": "stdout",
     "output_type": "stream",
     "text": [
      "[[ 0.77674115  0.06914634 -0.09482193]\n",
      " [ 0.60890186  0.07160665  0.28706166]\n",
      " [ 0.94557891  0.10411401  0.8656883 ]\n",
      " [ 0.84471396  0.03677676  0.70936096]\n",
      " [ 0.91644383  0.09064201  0.829515  ]\n",
      " [ 0.94992117  0.70417754 -0.07507966]\n",
      " [ 0.79124943  0.10057157  0.54964287]\n",
      " [ 0.72118692  0.26894559  0.50656966]]\n"
     ]
    }
   ],
   "source": [
    "print (Model_Result)"
   ]
  }
 ],
 "metadata": {
  "kernelspec": {
   "display_name": "Python 2",
   "language": "python",
   "name": "python2"
  },
  "language_info": {
   "codemirror_mode": {
    "name": "ipython",
    "version": 2
   },
   "file_extension": ".py",
   "mimetype": "text/x-python",
   "name": "python",
   "nbconvert_exporter": "python",
   "pygments_lexer": "ipython2",
   "version": "2.7.6"
  }
 },
 "nbformat": 4,
 "nbformat_minor": 1
}
